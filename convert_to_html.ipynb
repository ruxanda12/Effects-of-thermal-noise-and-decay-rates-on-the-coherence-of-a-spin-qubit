{
 "cells": [
  {
   "cell_type": "code",
   "execution_count": 1,
   "id": "487a43bd-83b9-4eb7-909c-4428ac5660be",
   "metadata": {},
   "outputs": [
    {
     "name": "stdout",
     "output_type": "stream",
     "text": [
      "[NbConvertApp] Converting notebook Final Project Template.ipynb to html\n",
      "[NbConvertApp] Writing 845851 bytes to Final Project Template.html\n"
     ]
    }
   ],
   "source": [
    "!jupyter nbconvert --to html --embed-images \"Final Project Template.ipynb\""
   ]
  },
  {
   "cell_type": "code",
   "execution_count": null,
   "id": "71ffc888-ba34-4ad8-81fc-f2d52aa82585",
   "metadata": {},
   "outputs": [],
   "source": []
  }
 ],
 "metadata": {
  "kernelspec": {
   "display_name": "Python 3 [3.10]",
   "language": "python",
   "name": "python3"
  },
  "language_info": {
   "codemirror_mode": {
    "name": "ipython",
    "version": 3
   },
   "file_extension": ".py",
   "mimetype": "text/x-python",
   "name": "python",
   "nbconvert_exporter": "python",
   "pygments_lexer": "ipython3",
   "version": "3.10.2"
  }
 },
 "nbformat": 4,
 "nbformat_minor": 5
}
